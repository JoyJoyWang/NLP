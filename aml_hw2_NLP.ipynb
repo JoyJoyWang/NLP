{
  "metadata": {
    "kernelspec": {
      "display_name": "Python 3",
      "name": "python3"
    },
    "language_info": {
      "name": "python",
      "version": "3.10.12",
      "mimetype": "text/x-python",
      "codemirror_mode": {
        "name": "ipython",
        "version": 3
      },
      "pygments_lexer": "ipython3",
      "nbconvert_exporter": "python",
      "file_extension": ".py"
    },
    "colab": {
      "provenance": [],
      "gpuType": "T4",
      "toc_visible": true,
      "include_colab_link": true
    },
    "accelerator": "GPU"
  },
  "nbformat_minor": 0,
  "nbformat": 4,
  "cells": [
    {
      "cell_type": "markdown",
      "metadata": {
        "id": "view-in-github",
        "colab_type": "text"
      },
      "source": [
        "<a href=\"https://colab.research.google.com/github/JoyJoyWang/NLP/blob/main/aml_hw2_NLP.ipynb\" target=\"_parent\"><img src=\"https://colab.research.google.com/assets/colab-badge.svg\" alt=\"Open In Colab\"/></a>"
      ]
    },
    {
      "cell_type": "code",
      "source": [
        "# This Python 3 environment comes with many helpful analytics libraries installed\n",
        "# It is defined by the kaggle/python Docker image: https://github.com/kaggle/docker-python\n",
        "# For example, here's several helpful packages to load\n",
        "\n",
        "import numpy as np # linear algebra\n",
        "import pandas as pd # data processing, CSV file I/O (e.g. pd.read_csv)\n",
        "\n",
        "# Input data files are available in the read-only \"../input/\" directory\n",
        "# For example, running this (by clicking run or pressing Shift+Enter) will list all files under the input directory\n",
        "\n",
        "import os\n",
        "for dirname, _, filenames in os.walk('/kaggle/input'):\n",
        "    for filename in filenames:\n",
        "        print(os.path.join(dirname, filename))\n",
        "\n",
        "# You can write up to 20GB to the current directory (/kaggle/working/) that gets preserved as output when you create a version using \"Save & Run All\"\n",
        "# You can also write temporary files to /kaggle/temp/, but they won't be saved outside of the current session\n",
        "\n",
        "from google.colab import drive\n",
        "drive.mount('/content/drive')\n",
        "\n",
        "import os\n",
        "\n",
        "# Specify the desired directory path\n",
        "new_directory = '/content/drive/MyDrive/AML HW2'\n",
        "\n",
        "# Use os.chdir() to change the working directory\n",
        "os.chdir(new_directory)\n",
        "\n",
        "# Verify the current working directory\n",
        "print(os.getcwd())"
      ],
      "metadata": {
        "_uuid": "8f2839f25d086af736a60e9eeb907d3b93b6e0e5",
        "_cell_guid": "b1076dfc-b9ad-4769-8c92-a6c4dae69d19",
        "execution": {
          "iopub.status.busy": "2023-09-26T21:00:38.573313Z",
          "iopub.execute_input": "2023-09-26T21:00:38.573747Z",
          "iopub.status.idle": "2023-09-26T21:00:38.958262Z",
          "shell.execute_reply.started": "2023-09-26T21:00:38.573711Z",
          "shell.execute_reply": "2023-09-26T21:00:38.956941Z"
        },
        "trusted": true,
        "colab": {
          "base_uri": "https://localhost:8080/"
        },
        "id": "07LY6vera53c",
        "outputId": "96700e6c-6c01-4e68-c395-2642e3a57a2c"
      },
      "execution_count": null,
      "outputs": [
        {
          "output_type": "stream",
          "name": "stdout",
          "text": [
            "Drive already mounted at /content/drive; to attempt to forcibly remount, call drive.mount(\"/content/drive\", force_remount=True).\n",
            "/content/drive/MyDrive/AML HW2\n"
          ]
        }
      ]
    },
    {
      "cell_type": "markdown",
      "source": [
        "# Load the Dateset"
      ],
      "metadata": {
        "id": "kamGolwZa53g"
      }
    },
    {
      "cell_type": "code",
      "source": [
        "train_df = pd.read_csv(\"/content/drive/MyDrive/AML HW2/data/train.csv\")\n",
        "test_df = pd.read_csv(\"/content/drive/MyDrive/AML HW2/data/test.csv\")"
      ],
      "metadata": {
        "execution": {
          "iopub.status.busy": "2023-09-26T21:00:38.960797Z",
          "iopub.execute_input": "2023-09-26T21:00:38.961456Z",
          "iopub.status.idle": "2023-09-26T21:00:39.047330Z",
          "shell.execute_reply.started": "2023-09-26T21:00:38.961411Z",
          "shell.execute_reply": "2023-09-26T21:00:39.046137Z"
        },
        "trusted": true,
        "id": "v4XUz1QJa53i"
      },
      "execution_count": null,
      "outputs": []
    },
    {
      "cell_type": "markdown",
      "source": [
        "## A Quick Look at the Dataset"
      ],
      "metadata": {
        "id": "TSe_mmHWa53j"
      }
    },
    {
      "cell_type": "code",
      "source": [
        "print(train_df.head())\n",
        "print(test_df.head())"
      ],
      "metadata": {
        "execution": {
          "iopub.status.busy": "2023-09-26T21:00:39.048823Z",
          "iopub.execute_input": "2023-09-26T21:00:39.049718Z",
          "iopub.status.idle": "2023-09-26T21:00:39.071855Z",
          "shell.execute_reply.started": "2023-09-26T21:00:39.049677Z",
          "shell.execute_reply": "2023-09-26T21:00:39.070523Z"
        },
        "trusted": true,
        "id": "ZL7pMdeGa53k",
        "colab": {
          "base_uri": "https://localhost:8080/"
        },
        "outputId": "acfee860-c972-4b5a-8fbe-5b64c4108e98"
      },
      "execution_count": null,
      "outputs": [
        {
          "output_type": "stream",
          "name": "stdout",
          "text": [
            "   id keyword location                                               text  \\\n",
            "0   1     NaN      NaN  Our Deeds are the Reason of this #earthquake M...   \n",
            "1   4     NaN      NaN             Forest fire near La Ronge Sask. Canada   \n",
            "2   5     NaN      NaN  All residents asked to 'shelter in place' are ...   \n",
            "3   6     NaN      NaN  13,000 people receive #wildfires evacuation or...   \n",
            "4   7     NaN      NaN  Just got sent this photo from Ruby #Alaska as ...   \n",
            "\n",
            "   target  \n",
            "0       1  \n",
            "1       1  \n",
            "2       1  \n",
            "3       1  \n",
            "4       1  \n",
            "   id keyword location                                               text\n",
            "0   0     NaN      NaN                 Just happened a terrible car crash\n",
            "1   2     NaN      NaN  Heard about #earthquake is different cities, s...\n",
            "2   3     NaN      NaN  there is a forest fire at spot pond, geese are...\n",
            "3   9     NaN      NaN           Apocalypse lighting. #Spokane #wildfires\n",
            "4  11     NaN      NaN      Typhoon Soudelor kills 28 in China and Taiwan\n"
          ]
        }
      ]
    },
    {
      "cell_type": "code",
      "source": [
        "# number of data points\n",
        "print(train_df.shape)\n",
        "print(test_df.shape)"
      ],
      "metadata": {
        "execution": {
          "iopub.status.busy": "2023-09-26T21:00:39.075119Z",
          "iopub.execute_input": "2023-09-26T21:00:39.075599Z",
          "iopub.status.idle": "2023-09-26T21:00:39.081168Z",
          "shell.execute_reply.started": "2023-09-26T21:00:39.075555Z",
          "shell.execute_reply": "2023-09-26T21:00:39.080291Z"
        },
        "trusted": true,
        "id": "SJf2wNaza53k",
        "colab": {
          "base_uri": "https://localhost:8080/"
        },
        "outputId": "01461643-f174-445a-f333-87ee14d100fa"
      },
      "execution_count": null,
      "outputs": [
        {
          "output_type": "stream",
          "name": "stdout",
          "text": [
            "(7613, 5)\n",
            "(3263, 4)\n"
          ]
        }
      ]
    },
    {
      "cell_type": "markdown",
      "source": [
        "# Exploratory Data Analysis (EDA) on the Training Set"
      ],
      "metadata": {
        "id": "RkRsN2eka53l"
      }
    },
    {
      "cell_type": "markdown",
      "source": [
        "## Missing Values"
      ],
      "metadata": {
        "id": "45hKw4Mqa53l"
      }
    },
    {
      "cell_type": "code",
      "source": [
        "# Checking for missing values\n",
        "missing_values = train_df[['keyword', 'location', 'text']].isnull().sum()\n",
        "\n",
        "missing_values"
      ],
      "metadata": {
        "execution": {
          "iopub.status.busy": "2023-09-26T21:00:39.082759Z",
          "iopub.execute_input": "2023-09-26T21:00:39.083089Z",
          "iopub.status.idle": "2023-09-26T21:00:39.114978Z",
          "shell.execute_reply.started": "2023-09-26T21:00:39.083060Z",
          "shell.execute_reply": "2023-09-26T21:00:39.113806Z"
        },
        "trusted": true,
        "id": "Iazrk-D2a53m",
        "colab": {
          "base_uri": "https://localhost:8080/"
        },
        "outputId": "7c4ed467-0b81-45ce-c129-e2219dfeeada"
      },
      "execution_count": null,
      "outputs": [
        {
          "output_type": "execute_result",
          "data": {
            "text/plain": [
              "keyword       61\n",
              "location    2533\n",
              "text           0\n",
              "dtype: int64"
            ]
          },
          "metadata": {},
          "execution_count": 45
        }
      ]
    },
    {
      "cell_type": "markdown",
      "source": [
        "## Percentage of Real Disasters"
      ],
      "metadata": {
        "id": "O6f4FNB8a53m"
      }
    },
    {
      "cell_type": "code",
      "source": [
        "total_num = train_df.shape[0]\n",
        "count_true = train_df[train_df['target'] == 1]['target'].count()\n",
        "percent_true = round(count_true / total_num, 2)\n",
        "percent_false = round(1 - percent_true, 2)\n",
        "\n",
        "print(\"Percentage of real disasters is: \" + str(percent_true))\n",
        "print(\"Percentage of false disasters is: \" + str(percent_false))"
      ],
      "metadata": {
        "execution": {
          "iopub.status.busy": "2023-09-26T21:00:39.116501Z",
          "iopub.execute_input": "2023-09-26T21:00:39.117586Z",
          "iopub.status.idle": "2023-09-26T21:00:39.129636Z",
          "shell.execute_reply.started": "2023-09-26T21:00:39.117532Z",
          "shell.execute_reply": "2023-09-26T21:00:39.128459Z"
        },
        "trusted": true,
        "id": "GO-SHviGa53n",
        "colab": {
          "base_uri": "https://localhost:8080/"
        },
        "outputId": "60f176be-1722-4f6e-ff21-5fd81fd1cece"
      },
      "execution_count": null,
      "outputs": [
        {
          "output_type": "stream",
          "name": "stdout",
          "text": [
            "Percentage of real disasters is: 0.43\n",
            "Percentage of false disasters is: 0.57\n"
          ]
        }
      ]
    },
    {
      "cell_type": "markdown",
      "source": [
        "## Sample for Both Disaster and Non-disaster Classes"
      ],
      "metadata": {
        "id": "4BDMwFF6a53n"
      }
    },
    {
      "cell_type": "code",
      "source": [
        "sample_disaster_tweets = train_df[train_df['target'] == 1]['text'].sample(5).tolist()\n",
        "sample_non_disaster_tweets = train_df[train_df['target'] == 0]['text'].sample(5).tolist()\n",
        "\n",
        "sample_disaster_tweets, sample_non_disaster_tweets"
      ],
      "metadata": {
        "execution": {
          "iopub.status.busy": "2023-09-26T21:00:39.131619Z",
          "iopub.execute_input": "2023-09-26T21:00:39.132051Z",
          "iopub.status.idle": "2023-09-26T21:00:39.148259Z",
          "shell.execute_reply.started": "2023-09-26T21:00:39.132011Z",
          "shell.execute_reply": "2023-09-26T21:00:39.146913Z"
        },
        "trusted": true,
        "id": "u4fBUrl8a53n",
        "colab": {
          "base_uri": "https://localhost:8080/"
        },
        "outputId": "7f532c5e-37ea-4334-f31b-40aaf4b855e0"
      },
      "execution_count": null,
      "outputs": [
        {
          "output_type": "execute_result",
          "data": {
            "text/plain": [
              "(['Learning from the Legacy of a Catastrophic Eruption http://t.co/RbmuCURS2F',\n",
              "  'Wow what beauty lies within every storm. Taken today after a rainstorm at A&amp;B Pipeliners http://t.co/pSt5bBQ0av',\n",
              "  'Watch how bad that fool get burned in coverage this year. Dat dude is all-pro practice squad material',\n",
              "  '@ameenshaikh3 sir i just only wanted to make a point about @sureshpprabhu you made and said he is lying about bridge collapse.',\n",
              "  \"@antpips67 @JohnEJefferson obviously I'm aware that not all AS are from countries we have bombed but a lot are fleeing conflict\"],\n",
              " [\"53 years ago this week is the anniversary of Marilyn Monroe's death RIPRIPRIP\",\n",
              "  'Tips so that finding the customers ego drought: dqSVYusY',\n",
              "  'Mary coming to Troy rescue. ?????? https://t.co/rosVXQeLQj',\n",
              "  'According to a 2011 Gallup poll the more money you have the more likely you are to suffer from time famine.? Ari\\x89Û_ http://t.co/QdmVTJ4lZJ',\n",
              "  'In 2014 I will only smoke crqck if I becyme a mayor. This includes Foursquare.'])"
            ]
          },
          "metadata": {},
          "execution_count": 47
        }
      ]
    },
    {
      "cell_type": "markdown",
      "source": [
        "## Explore the 'text' Feature"
      ],
      "metadata": {
        "id": "iOAR1rpQa53o"
      }
    },
    {
      "cell_type": "code",
      "source": [
        "# Calculate and print statistics for the train_df\n",
        "print(\"Train Text Length Stat\")\n",
        "print(train_df[\"text\"].apply(len).describe())\n",
        "print()\n",
        "\n",
        "# Calculate and print statistics for the test_df\n",
        "print(\"Test Text Length Stat\")\n",
        "print(test_df[\"text\"].apply(len).describe())"
      ],
      "metadata": {
        "execution": {
          "iopub.status.busy": "2023-09-26T21:00:39.149962Z",
          "iopub.execute_input": "2023-09-26T21:00:39.150386Z",
          "iopub.status.idle": "2023-09-26T21:00:39.182589Z",
          "shell.execute_reply.started": "2023-09-26T21:00:39.150351Z",
          "shell.execute_reply": "2023-09-26T21:00:39.181125Z"
        },
        "trusted": true,
        "id": "UlUj25Zba53o",
        "colab": {
          "base_uri": "https://localhost:8080/"
        },
        "outputId": "705251a1-44fa-434c-b14b-5994a90f945c"
      },
      "execution_count": null,
      "outputs": [
        {
          "output_type": "stream",
          "name": "stdout",
          "text": [
            "Train Text Length Stat\n",
            "count    7613.000000\n",
            "mean      101.037436\n",
            "std        33.781325\n",
            "min         7.000000\n",
            "25%        78.000000\n",
            "50%       107.000000\n",
            "75%       133.000000\n",
            "max       157.000000\n",
            "Name: text, dtype: float64\n",
            "\n",
            "Test Text Length Stat\n",
            "count    3263.000000\n",
            "mean      102.108183\n",
            "std        33.972158\n",
            "min         5.000000\n",
            "25%        78.000000\n",
            "50%       109.000000\n",
            "75%       134.000000\n",
            "max       151.000000\n",
            "Name: text, dtype: float64\n"
          ]
        }
      ]
    },
    {
      "cell_type": "markdown",
      "source": [
        "# Preprocess the Data"
      ],
      "metadata": {
        "id": "HFQhI7XCa53o"
      }
    },
    {
      "cell_type": "markdown",
      "source": [
        "**Desicon Making:**\n",
        "\n",
        "1. **Convert all the words to lowercase:**\n",
        "   - **Decision:** Yes.\n",
        "   - **Reason:** Case normalization helps in treating the same word in different cases as one, ensuring consistency. For example, \"Tweet\" and \"tweet\" will be treated as the same word. This reduces the feature space and aids in generalization.\n",
        "\n",
        "2. **Lemmatize all the words:**\n",
        "   - **Decision:** Yes.\n",
        "   - **Reason:** Lemmatization converts words to their base or root form, which can be beneficial in understanding the underlying meaning and reducing the feature space. Lemmatization ensures that the root word is meaningful.\n",
        "\n",
        "3. **Strip punctuation:**\n",
        "   - **Decision:** Yes.\n",
        "   - **Reason:** Punctuation often doesn't add significant meaning to the text, especially for this type of classification task. Removing punctuation can help reduce the noise in the data.\n",
        "\n",
        "4. **Strip the stop words:**\n",
        "   - **Decision:** Yes.\n",
        "   - **Reason:** Stop words like \"the\", \"and\", \"or\" are frequent in the English language but often don't carry significant meaning on their own.\n",
        "\n",
        "5. **Strip @ and URLs:**\n",
        "   - **Decision:** Yes.\n",
        "   - **Reason:** Mentions (like \"@username\") and URLs often don't provide useful information for our classification task. Moreover, mentions can be seen as noise since the username might not have any relation to the content of the tweet regarding a disaster. Stripping these elements will clean up our text significantly.\n",
        "\n",
        "6. **Something else**\n",
        "   - **Decision:** Remove numbers and special characters, and strip extra white spaces.\n",
        "   - **Reason:** Numbers and special characters might not add much context in determining whether a tweet is about a disaster or not. Stripping extra white spaces helps in maintaining a clean text format.\n",
        "\n"
      ],
      "metadata": {
        "id": "pFPtkyG5a53o"
      }
    },
    {
      "cell_type": "code",
      "source": [
        "import re\n",
        "import nltk\n",
        "\n",
        "from nltk.corpus import stopwords\n",
        "from nltk.stem import WordNetLemmatizer\n",
        "from nltk.tokenize import word_tokenize\n",
        "\n",
        "nltk.download('stopwords')\n",
        "nltk.download('punkt')\n",
        "nltk.download('wordnet')"
      ],
      "metadata": {
        "execution": {
          "iopub.status.busy": "2023-09-26T21:19:34.252556Z",
          "iopub.execute_input": "2023-09-26T21:19:34.252985Z",
          "iopub.status.idle": "2023-09-26T21:19:34.440292Z",
          "shell.execute_reply.started": "2023-09-26T21:19:34.252952Z",
          "shell.execute_reply": "2023-09-26T21:19:34.439140Z"
        },
        "trusted": true,
        "id": "A2E5mLTxa53o",
        "colab": {
          "base_uri": "https://localhost:8080/"
        },
        "outputId": "ae14c613-bf0b-45d2-bc43-e3c36a207301"
      },
      "execution_count": null,
      "outputs": [
        {
          "output_type": "stream",
          "name": "stderr",
          "text": [
            "[nltk_data] Downloading package stopwords to /root/nltk_data...\n",
            "[nltk_data]   Package stopwords is already up-to-date!\n",
            "[nltk_data] Downloading package punkt to /root/nltk_data...\n",
            "[nltk_data]   Package punkt is already up-to-date!\n",
            "[nltk_data] Downloading package wordnet to /root/nltk_data...\n",
            "[nltk_data]   Package wordnet is already up-to-date!\n"
          ]
        },
        {
          "output_type": "execute_result",
          "data": {
            "text/plain": [
              "True"
            ]
          },
          "metadata": {},
          "execution_count": 49
        }
      ]
    },
    {
      "cell_type": "code",
      "source": [
        "# Initialize the lemmatizer and stop words\n",
        "lemmatizer = WordNetLemmatizer()\n",
        "stop_words = set(stopwords.words('english'))\n",
        "\n",
        "\n",
        "def preprocess_text(text):\n",
        "\n",
        "    # Convert to lowercase\n",
        "    text = text.lower()\n",
        "\n",
        "    # Remove @ mentions and URLs\n",
        "    text = re.sub(r'@\\w+', '', text)\n",
        "    text = re.sub(r'http\\S+', '', text)\n",
        "\n",
        "    # Remove punctuation, numbers, and special characters\n",
        "    text = re.sub(r'[^a-zA-Z\\s]', '', text)\n",
        "\n",
        "    # Strip extra white spaces\n",
        "    text = text.strip()\n",
        "\n",
        "    # Tokenize\n",
        "    tokens = word_tokenize(text)\n",
        "\n",
        "    # Lemmatize and remove stop words\n",
        "    tokens = [lemmatizer.lemmatize(word) for word in tokens if word not in stop_words]\n",
        "\n",
        "    # Join tokens back to text\n",
        "    text = ' '.join(tokens)\n",
        "\n",
        "    return text\n"
      ],
      "metadata": {
        "execution": {
          "iopub.status.busy": "2023-09-26T21:21:12.841099Z",
          "iopub.execute_input": "2023-09-26T21:21:12.841553Z",
          "iopub.status.idle": "2023-09-26T21:21:13.113163Z",
          "shell.execute_reply.started": "2023-09-26T21:21:12.841519Z",
          "shell.execute_reply": "2023-09-26T21:21:13.111265Z"
        },
        "trusted": true,
        "id": "IHlVgMlZa53p"
      },
      "execution_count": null,
      "outputs": []
    },
    {
      "cell_type": "code",
      "source": [
        "# Apply preprocessing to the 'text' column -- both train and test\n",
        "train_df['processed_text'] = train_df['text'].apply(preprocess_text)\n",
        "train_df.head()\n",
        "\n",
        "test_df['processed_text'] = test_df['text'].apply(preprocess_text)\n",
        "test_df.head()"
      ],
      "metadata": {
        "id": "wyPx90qbcD6N",
        "colab": {
          "base_uri": "https://localhost:8080/",
          "height": 258
        },
        "outputId": "6a3286d7-faba-415d-d7a9-08e4d1360025"
      },
      "execution_count": null,
      "outputs": [
        {
          "output_type": "execute_result",
          "data": {
            "text/plain": [
              "   id keyword location                                               text  \\\n",
              "0   0     NaN      NaN                 Just happened a terrible car crash   \n",
              "1   2     NaN      NaN  Heard about #earthquake is different cities, s...   \n",
              "2   3     NaN      NaN  there is a forest fire at spot pond, geese are...   \n",
              "3   9     NaN      NaN           Apocalypse lighting. #Spokane #wildfires   \n",
              "4  11     NaN      NaN      Typhoon Soudelor kills 28 in China and Taiwan   \n",
              "\n",
              "                                      processed_text  \n",
              "0                        happened terrible car crash  \n",
              "1  heard earthquake different city stay safe ever...  \n",
              "2  forest fire spot pond goose fleeing across str...  \n",
              "3               apocalypse lighting spokane wildfire  \n",
              "4                 typhoon soudelor kill china taiwan  "
            ],
            "text/html": [
              "\n",
              "  <div id=\"df-4fa9671a-aac4-4912-842a-57b7265b5cec\" class=\"colab-df-container\">\n",
              "    <div>\n",
              "<style scoped>\n",
              "    .dataframe tbody tr th:only-of-type {\n",
              "        vertical-align: middle;\n",
              "    }\n",
              "\n",
              "    .dataframe tbody tr th {\n",
              "        vertical-align: top;\n",
              "    }\n",
              "\n",
              "    .dataframe thead th {\n",
              "        text-align: right;\n",
              "    }\n",
              "</style>\n",
              "<table border=\"1\" class=\"dataframe\">\n",
              "  <thead>\n",
              "    <tr style=\"text-align: right;\">\n",
              "      <th></th>\n",
              "      <th>id</th>\n",
              "      <th>keyword</th>\n",
              "      <th>location</th>\n",
              "      <th>text</th>\n",
              "      <th>processed_text</th>\n",
              "    </tr>\n",
              "  </thead>\n",
              "  <tbody>\n",
              "    <tr>\n",
              "      <th>0</th>\n",
              "      <td>0</td>\n",
              "      <td>NaN</td>\n",
              "      <td>NaN</td>\n",
              "      <td>Just happened a terrible car crash</td>\n",
              "      <td>happened terrible car crash</td>\n",
              "    </tr>\n",
              "    <tr>\n",
              "      <th>1</th>\n",
              "      <td>2</td>\n",
              "      <td>NaN</td>\n",
              "      <td>NaN</td>\n",
              "      <td>Heard about #earthquake is different cities, s...</td>\n",
              "      <td>heard earthquake different city stay safe ever...</td>\n",
              "    </tr>\n",
              "    <tr>\n",
              "      <th>2</th>\n",
              "      <td>3</td>\n",
              "      <td>NaN</td>\n",
              "      <td>NaN</td>\n",
              "      <td>there is a forest fire at spot pond, geese are...</td>\n",
              "      <td>forest fire spot pond goose fleeing across str...</td>\n",
              "    </tr>\n",
              "    <tr>\n",
              "      <th>3</th>\n",
              "      <td>9</td>\n",
              "      <td>NaN</td>\n",
              "      <td>NaN</td>\n",
              "      <td>Apocalypse lighting. #Spokane #wildfires</td>\n",
              "      <td>apocalypse lighting spokane wildfire</td>\n",
              "    </tr>\n",
              "    <tr>\n",
              "      <th>4</th>\n",
              "      <td>11</td>\n",
              "      <td>NaN</td>\n",
              "      <td>NaN</td>\n",
              "      <td>Typhoon Soudelor kills 28 in China and Taiwan</td>\n",
              "      <td>typhoon soudelor kill china taiwan</td>\n",
              "    </tr>\n",
              "  </tbody>\n",
              "</table>\n",
              "</div>\n",
              "    <div class=\"colab-df-buttons\">\n",
              "\n",
              "  <div class=\"colab-df-container\">\n",
              "    <button class=\"colab-df-convert\" onclick=\"convertToInteractive('df-4fa9671a-aac4-4912-842a-57b7265b5cec')\"\n",
              "            title=\"Convert this dataframe to an interactive table.\"\n",
              "            style=\"display:none;\">\n",
              "\n",
              "  <svg xmlns=\"http://www.w3.org/2000/svg\" height=\"24px\" viewBox=\"0 -960 960 960\">\n",
              "    <path d=\"M120-120v-720h720v720H120Zm60-500h600v-160H180v160Zm220 220h160v-160H400v160Zm0 220h160v-160H400v160ZM180-400h160v-160H180v160Zm440 0h160v-160H620v160ZM180-180h160v-160H180v160Zm440 0h160v-160H620v160Z\"/>\n",
              "  </svg>\n",
              "    </button>\n",
              "\n",
              "  <style>\n",
              "    .colab-df-container {\n",
              "      display:flex;\n",
              "      gap: 12px;\n",
              "    }\n",
              "\n",
              "    .colab-df-convert {\n",
              "      background-color: #E8F0FE;\n",
              "      border: none;\n",
              "      border-radius: 50%;\n",
              "      cursor: pointer;\n",
              "      display: none;\n",
              "      fill: #1967D2;\n",
              "      height: 32px;\n",
              "      padding: 0 0 0 0;\n",
              "      width: 32px;\n",
              "    }\n",
              "\n",
              "    .colab-df-convert:hover {\n",
              "      background-color: #E2EBFA;\n",
              "      box-shadow: 0px 1px 2px rgba(60, 64, 67, 0.3), 0px 1px 3px 1px rgba(60, 64, 67, 0.15);\n",
              "      fill: #174EA6;\n",
              "    }\n",
              "\n",
              "    .colab-df-buttons div {\n",
              "      margin-bottom: 4px;\n",
              "    }\n",
              "\n",
              "    [theme=dark] .colab-df-convert {\n",
              "      background-color: #3B4455;\n",
              "      fill: #D2E3FC;\n",
              "    }\n",
              "\n",
              "    [theme=dark] .colab-df-convert:hover {\n",
              "      background-color: #434B5C;\n",
              "      box-shadow: 0px 1px 3px 1px rgba(0, 0, 0, 0.15);\n",
              "      filter: drop-shadow(0px 1px 2px rgba(0, 0, 0, 0.3));\n",
              "      fill: #FFFFFF;\n",
              "    }\n",
              "  </style>\n",
              "\n",
              "    <script>\n",
              "      const buttonEl =\n",
              "        document.querySelector('#df-4fa9671a-aac4-4912-842a-57b7265b5cec button.colab-df-convert');\n",
              "      buttonEl.style.display =\n",
              "        google.colab.kernel.accessAllowed ? 'block' : 'none';\n",
              "\n",
              "      async function convertToInteractive(key) {\n",
              "        const element = document.querySelector('#df-4fa9671a-aac4-4912-842a-57b7265b5cec');\n",
              "        const dataTable =\n",
              "          await google.colab.kernel.invokeFunction('convertToInteractive',\n",
              "                                                    [key], {});\n",
              "        if (!dataTable) return;\n",
              "\n",
              "        const docLinkHtml = 'Like what you see? Visit the ' +\n",
              "          '<a target=\"_blank\" href=https://colab.research.google.com/notebooks/data_table.ipynb>data table notebook</a>'\n",
              "          + ' to learn more about interactive tables.';\n",
              "        element.innerHTML = '';\n",
              "        dataTable['output_type'] = 'display_data';\n",
              "        await google.colab.output.renderOutput(dataTable, element);\n",
              "        const docLink = document.createElement('div');\n",
              "        docLink.innerHTML = docLinkHtml;\n",
              "        element.appendChild(docLink);\n",
              "      }\n",
              "    </script>\n",
              "  </div>\n",
              "\n",
              "\n",
              "<div id=\"df-8f98d813-7092-43ab-980b-c05824fc680c\">\n",
              "  <button class=\"colab-df-quickchart\" onclick=\"quickchart('df-8f98d813-7092-43ab-980b-c05824fc680c')\"\n",
              "            title=\"Suggest charts.\"\n",
              "            style=\"display:none;\">\n",
              "\n",
              "<svg xmlns=\"http://www.w3.org/2000/svg\" height=\"24px\"viewBox=\"0 0 24 24\"\n",
              "     width=\"24px\">\n",
              "    <g>\n",
              "        <path d=\"M19 3H5c-1.1 0-2 .9-2 2v14c0 1.1.9 2 2 2h14c1.1 0 2-.9 2-2V5c0-1.1-.9-2-2-2zM9 17H7v-7h2v7zm4 0h-2V7h2v10zm4 0h-2v-4h2v4z\"/>\n",
              "    </g>\n",
              "</svg>\n",
              "  </button>\n",
              "\n",
              "<style>\n",
              "  .colab-df-quickchart {\n",
              "      --bg-color: #E8F0FE;\n",
              "      --fill-color: #1967D2;\n",
              "      --hover-bg-color: #E2EBFA;\n",
              "      --hover-fill-color: #174EA6;\n",
              "      --disabled-fill-color: #AAA;\n",
              "      --disabled-bg-color: #DDD;\n",
              "  }\n",
              "\n",
              "  [theme=dark] .colab-df-quickchart {\n",
              "      --bg-color: #3B4455;\n",
              "      --fill-color: #D2E3FC;\n",
              "      --hover-bg-color: #434B5C;\n",
              "      --hover-fill-color: #FFFFFF;\n",
              "      --disabled-bg-color: #3B4455;\n",
              "      --disabled-fill-color: #666;\n",
              "  }\n",
              "\n",
              "  .colab-df-quickchart {\n",
              "    background-color: var(--bg-color);\n",
              "    border: none;\n",
              "    border-radius: 50%;\n",
              "    cursor: pointer;\n",
              "    display: none;\n",
              "    fill: var(--fill-color);\n",
              "    height: 32px;\n",
              "    padding: 0;\n",
              "    width: 32px;\n",
              "  }\n",
              "\n",
              "  .colab-df-quickchart:hover {\n",
              "    background-color: var(--hover-bg-color);\n",
              "    box-shadow: 0 1px 2px rgba(60, 64, 67, 0.3), 0 1px 3px 1px rgba(60, 64, 67, 0.15);\n",
              "    fill: var(--button-hover-fill-color);\n",
              "  }\n",
              "\n",
              "  .colab-df-quickchart-complete:disabled,\n",
              "  .colab-df-quickchart-complete:disabled:hover {\n",
              "    background-color: var(--disabled-bg-color);\n",
              "    fill: var(--disabled-fill-color);\n",
              "    box-shadow: none;\n",
              "  }\n",
              "\n",
              "  .colab-df-spinner {\n",
              "    border: 2px solid var(--fill-color);\n",
              "    border-color: transparent;\n",
              "    border-bottom-color: var(--fill-color);\n",
              "    animation:\n",
              "      spin 1s steps(1) infinite;\n",
              "  }\n",
              "\n",
              "  @keyframes spin {\n",
              "    0% {\n",
              "      border-color: transparent;\n",
              "      border-bottom-color: var(--fill-color);\n",
              "      border-left-color: var(--fill-color);\n",
              "    }\n",
              "    20% {\n",
              "      border-color: transparent;\n",
              "      border-left-color: var(--fill-color);\n",
              "      border-top-color: var(--fill-color);\n",
              "    }\n",
              "    30% {\n",
              "      border-color: transparent;\n",
              "      border-left-color: var(--fill-color);\n",
              "      border-top-color: var(--fill-color);\n",
              "      border-right-color: var(--fill-color);\n",
              "    }\n",
              "    40% {\n",
              "      border-color: transparent;\n",
              "      border-right-color: var(--fill-color);\n",
              "      border-top-color: var(--fill-color);\n",
              "    }\n",
              "    60% {\n",
              "      border-color: transparent;\n",
              "      border-right-color: var(--fill-color);\n",
              "    }\n",
              "    80% {\n",
              "      border-color: transparent;\n",
              "      border-right-color: var(--fill-color);\n",
              "      border-bottom-color: var(--fill-color);\n",
              "    }\n",
              "    90% {\n",
              "      border-color: transparent;\n",
              "      border-bottom-color: var(--fill-color);\n",
              "    }\n",
              "  }\n",
              "</style>\n",
              "\n",
              "  <script>\n",
              "    async function quickchart(key) {\n",
              "      const quickchartButtonEl =\n",
              "        document.querySelector('#' + key + ' button');\n",
              "      quickchartButtonEl.disabled = true;  // To prevent multiple clicks.\n",
              "      quickchartButtonEl.classList.add('colab-df-spinner');\n",
              "      try {\n",
              "        const charts = await google.colab.kernel.invokeFunction(\n",
              "            'suggestCharts', [key], {});\n",
              "      } catch (error) {\n",
              "        console.error('Error during call to suggestCharts:', error);\n",
              "      }\n",
              "      quickchartButtonEl.classList.remove('colab-df-spinner');\n",
              "      quickchartButtonEl.classList.add('colab-df-quickchart-complete');\n",
              "    }\n",
              "    (() => {\n",
              "      let quickchartButtonEl =\n",
              "        document.querySelector('#df-8f98d813-7092-43ab-980b-c05824fc680c button');\n",
              "      quickchartButtonEl.style.display =\n",
              "        google.colab.kernel.accessAllowed ? 'block' : 'none';\n",
              "    })();\n",
              "  </script>\n",
              "</div>\n",
              "    </div>\n",
              "  </div>\n"
            ]
          },
          "metadata": {},
          "execution_count": 51
        }
      ]
    },
    {
      "cell_type": "markdown",
      "source": [
        "# Split the Dataset"
      ],
      "metadata": {
        "id": "VyGmn20sa53q"
      }
    },
    {
      "cell_type": "code",
      "source": [
        "from sklearn.model_selection import train_test_split\n",
        "\n",
        "# Splitting the dataset into training (70%) and dev (30%) sets\n",
        "training_df, dev_df = train_test_split(train_df, test_size=0.3, random_state=42)\n",
        "\n",
        "# Print the shapes of the resulting DataFrames to verify the split\n",
        "print(\"Training DataFrame shape:\", training_df.shape)\n",
        "print(\"Dev DataFrame shape:\", dev_df.shape)"
      ],
      "metadata": {
        "execution": {
          "iopub.status.busy": "2023-09-26T21:00:40.199622Z",
          "iopub.status.idle": "2023-09-26T21:00:40.200078Z",
          "shell.execute_reply.started": "2023-09-26T21:00:40.199863Z",
          "shell.execute_reply": "2023-09-26T21:00:40.199883Z"
        },
        "trusted": true,
        "id": "t3HQSiWKa53q",
        "colab": {
          "base_uri": "https://localhost:8080/"
        },
        "outputId": "da1e05f2-d496-4a84-dd3e-dec6f22f6e0b"
      },
      "execution_count": null,
      "outputs": [
        {
          "output_type": "stream",
          "name": "stdout",
          "text": [
            "Training DataFrame shape: (5329, 6)\n",
            "Dev DataFrame shape: (2284, 6)\n"
          ]
        }
      ]
    },
    {
      "cell_type": "code",
      "source": [
        "training_df.to_csv('training_df.csv', index=False)\n",
        "dev_df.to_csv('dev_df.csv', index=False)\n",
        "test_df.to_csv('test_df.csv', index=False)"
      ],
      "metadata": {
        "id": "u38ItKRNhtzv"
      },
      "execution_count": null,
      "outputs": []
    },
    {
      "cell_type": "markdown",
      "source": [
        "# Feature Engineering(Bags of words model)"
      ],
      "metadata": {
        "id": "AWIjT3zda53r"
      }
    },
    {
      "cell_type": "markdown",
      "source": [
        "## Decision of Threshold M"
      ],
      "metadata": {
        "id": "5FSkuk3cdZBj"
      }
    },
    {
      "cell_type": "markdown",
      "source": [
        "Given the context:\n",
        "\n",
        "- M represents the threshold for the number of words in the vocabulary.\n",
        "- k represents the minimum number of different tweets a word should appear in to be considered for inclusion in the vocabulary.\n",
        "\n",
        "When implementing:\n",
        "\n",
        "- First filter out words that appear in fewer than k tweets.\n",
        "- From this filtered list, then select the top M most frequent words to form the vocabulary."
      ],
      "metadata": {
        "id": "72dcPP08EVxy"
      }
    },
    {
      "cell_type": "code",
      "source": [
        "# visualze the freq distribution of words in the training data\n",
        "\n",
        "from collections import Counter\n",
        "import matplotlib.pyplot as plt\n",
        "\n",
        "# Tokenize the processed_text and compute the frequency distribution\n",
        "all_words = ' '.join(training_df['processed_text']).split()\n",
        "word_freq = Counter(all_words) # dict, key: word, value:count/freq\n",
        "\n",
        "# Sort words by frequency\n",
        "word_freq_list = word_freq.items()\n",
        "sorted_word_freq = sorted(word_freq_list, key=lambda x: x[1], reverse=True) #\n",
        "\n",
        "# Extract word frequencies for visualization\n",
        "words, frequencies = zip(*sorted_word_freq) # tuple unpacking\n",
        "\n",
        "# Plot the frequency distribution of the top N words\n",
        "N = 100\n",
        "plt.figure(figsize=(15, 7))\n",
        "plt.bar(words[:N], frequencies[:N])\n",
        "plt.xticks(rotation=90)\n",
        "plt.xlabel('Words')\n",
        "plt.ylabel('Frequency')\n",
        "plt.title(f'Frequency Distribution of Top {N} Words in Training Data')\n",
        "plt.show()"
      ],
      "metadata": {
        "id": "rOxPzZ17dV2a",
        "colab": {
          "base_uri": "https://localhost:8080/",
          "height": 493
        },
        "outputId": "baa28047-4d7d-4767-8c6f-3d9bca8872e3"
      },
      "execution_count": null,
      "outputs": [
        {
          "output_type": "display_data",
          "data": {
            "text/plain": [
              "<Figure size 1500x700 with 1 Axes>"
            ],
            "image/png": "[encoded data removed]"
          },
          "metadata": {}
        }
      ]
    },
    {
      "cell_type": "markdown",
      "source": [
        "A few observations:\n",
        "- There's a steep drop in frequency after the first few words.\n",
        "- Words like \"fire\", \"new\", \"via\", and \"disaster\" are among the most frequent."
      ],
      "metadata": {
        "id": "KCmjRlmIJIIH"
      }
    },
    {
      "cell_type": "markdown",
      "source": [
        "### Deciding on k"
      ],
      "metadata": {
        "id": "QvOQ0pv9M0K4"
      }
    },
    {
      "cell_type": "markdown",
      "source": [
        " k represents the minimum number of different tweets a word should appear in to be considered for inclusion in the vocabulary. It serves as a filter to exclude words that might appear frequently but only in a limited number of tweets.\n",
        "\n",
        " We can compute the distribution of words based on the number of tweets they appear in to help decide on a suitable value for k\n"
      ],
      "metadata": {
        "id": "QgfOwwSDM-gh"
      }
    },
    {
      "cell_type": "code",
      "source": [
        "# Compute the distribution of words based on the number of tweets they appear in\n",
        "tweet_word_sets = [set(tweet.split()) for tweet in training_df['processed_text']]\n",
        "word_tweet_counts = Counter(word for word_set in tweet_word_sets for word in word_set)\n",
        "\n",
        "# Compute the distribution of word counts (how many words appear in 1 tweet, 2 tweets, etc.)\n",
        "word_cnt_distribution = Counter(word_tweet_counts.values()) # dict\n",
        "\n",
        "# Display the distribution\n",
        "print(word_cnt_distribution.most_common(10)) # (num of tweets, num of words)"
      ],
      "metadata": {
        "colab": {
          "base_uri": "https://localhost:8080/"
        },
        "id": "-m_9cC_VM1iF",
        "outputId": "441927c7-8997-4f69-fa84-429d1e34d60c"
      },
      "execution_count": null,
      "outputs": [
        {
          "output_type": "stream",
          "name": "stdout",
          "text": [
            "[(1, 6377), (2, 1433), (3, 678), (4, 415), (5, 275), (6, 192), (7, 140), (8, 132), (9, 107), (10, 89)]\n"
          ]
        }
      ]
    },
    {
      "cell_type": "code",
      "source": [
        "# Plotting the distribution of word counts\n",
        "x_values = list(word_cnt_distribution.keys()) # Number of Tweets a Word Appears In\n",
        "y_values = list(word_cnt_distribution.values()) # Number of Words (log scale)\n",
        "\n",
        "plt.figure(figsize=(15, 7))\n",
        "plt.bar(x_values, y_values, color='lightblue')\n",
        "plt.yscale('log')  # Using a logarithmic scale for better visualization\n",
        "plt.xlabel('Number of Tweets a Word Appears In')\n",
        "plt.ylabel('Number of Words (log scale)')\n",
        "plt.title('Distribution of Words Based on Number of Tweets They Appear In')\n",
        "plt.grid(axis='y', linestyle='--', alpha=0.7)\n",
        "plt.show()"
      ],
      "metadata": {
        "colab": {
          "base_uri": "https://localhost:8080/",
          "height": 449
        },
        "id": "EFvrRZtFdPP9",
        "outputId": "ff746052-9abe-4b4a-f722-0f87be6b1d89"
      },
      "execution_count": null,
      "outputs": [
        {
          "output_type": "display_data",
          "data": {
            "text/plain": [
              "<Figure size 1500x700 with 1 Axes>"
            ],
            "image/png": "[encoded data removed]"
          },
          "metadata": {}
        }
      ]
    },
    {
      "cell_type": "markdown",
      "source": [
        "Based on this, we can now get the number of qualified words given k(words that appear in at least 'k' different tweets)."
      ],
      "metadata": {
        "id": "WgsBjqe5cokL"
      }
    },
    {
      "cell_type": "code",
      "source": [
        "# Calculate the number of words that appear in at least 'k' different tweets for k in range(1, 11)\n",
        "word_counts = {}\n",
        "\n",
        "for k in range(1, 11):\n",
        "    word_counts[k] = sum(count for key, count in word_cnt_distribution.items() if key >= k)\n",
        "\n",
        "word_counts"
      ],
      "metadata": {
        "colab": {
          "base_uri": "https://localhost:8080/"
        },
        "id": "JzZX2jLDPype",
        "outputId": "ccff015f-a330-4fcb-93c1-db84187fe2ba"
      },
      "execution_count": null,
      "outputs": [
        {
          "output_type": "execute_result",
          "data": {
            "text/plain": [
              "{1: 10791,\n",
              " 2: 4414,\n",
              " 3: 2981,\n",
              " 4: 2303,\n",
              " 5: 1888,\n",
              " 6: 1613,\n",
              " 7: 1421,\n",
              " 8: 1281,\n",
              " 9: 1149,\n",
              " 10: 1042}"
            ]
          },
          "metadata": {},
          "execution_count": 57
        }
      ]
    },
    {
      "cell_type": "markdown",
      "source": [
        "Given the distribution and analysis above, setting k = 2 or 3 may be a good starting point. This ensures words in the vocabulary appears in at least a few times as well as reducing noise."
      ],
      "metadata": {
        "id": "GgZcYtkpRx2w"
      }
    },
    {
      "cell_type": "markdown",
      "source": [
        "### Deciding on M based on k\n"
      ],
      "metadata": {
        "id": "_WfHvmbnMY7v"
      }
    },
    {
      "cell_type": "markdown",
      "source": [
        "To decide on M (the size of the vocabulary), we need to consider how many words we want to capture in our vocabulary. We can further explore the cumulative distribution of word frequencies to understand how many words we might capture by setting different frequency thresholds based on k. The steps:\n",
        "\n",
        "1. **Filter Out Words Based on k**:\n",
        "   - Keep only words that appear in at least k different tweets.\n",
        "   \n",
        "2. **Compute Cumulative Distribution for Filtered Words**:\n",
        "   - For the words remaining after the k filter, compute the cumulative distribution of their occurrences. This will help determine how many of the most frequent words are needed to cover a certain percentage of total word occurrences.\n",
        "   \n",
        "3. **Determine M Based on Desired Coverage Percentage**:\n",
        "   - Decide on a target coverage percentage (e.g., 80%, 85%, or 90%). This refers to the portion of the entire dataset's word occurrences that we aim to cover using the most frequent words.\n",
        "   - Determine the M value corresponding to this percentage from the cumulative distribution. This M value will indicate the size of the vocabulary needed to achieve the desired coverage percentage."
      ],
      "metadata": {
        "id": "wrklq_RuJgrv"
      }
    },
    {
      "cell_type": "code",
      "source": [
        "# Calculate the total word occurrences in the dataset\n",
        "total_occurrences = sum(word_freq.values())\n",
        "\n",
        "# pre: filter out words based on k, compute the cumulative distribution\n",
        "def compute_cumulative_distribution(k, word_freq, total_occurrences):\n",
        "    \"\"\"\n",
        "    Computes the cumulative distribution after filtering words based on 'k'.\n",
        "\n",
        "    Parameters:\n",
        "    - k: The minimum number of tweets a word should appear in.\n",
        "    - word_freq: A dictionary with words as keys and their frequencies as values.\n",
        "    - total_occurrences: Total word occurrences in the dataset.\n",
        "\n",
        "    Returns:\n",
        "    - A list of tuples containing words and their cumulative distribution percentages.\n",
        "    \"\"\"\n",
        "    # Filter words based on 'k'\n",
        "    filtered_words = {word: freq for word, freq in word_freq.items() if word_tweet_counts[word] >= k}\n",
        "    sorted_filtered_words = sorted(filtered_words.items(), key=lambda x: x[1], reverse=True)\n",
        "\n",
        "    # Compute the cumulative distribution\n",
        "    cumulative_distribution = []\n",
        "    cumulative_sum = 0\n",
        "    for word, freq in sorted_filtered_words:\n",
        "        cumulative_sum += freq\n",
        "        # calculate the cumulative distribution as a percentage of the total word occurrences\n",
        "        percentage = (cumulative_sum / total_occurrences) * 100\n",
        "        cumulative_distribution.append((word, percentage))\n",
        "\n",
        "    return cumulative_distribution\n",
        "\n",
        "# pre: find M based on coverage_percentage\n",
        "def find_M_for_coverage(coverage_percentage, cumulative_distribution):\n",
        "    \"\"\"\n",
        "    Finds the M value for a given desired coverage percentage.\n",
        "\n",
        "    Parameters:\n",
        "    - coverage_percentage: The desired percentage of total word occurrences to cover.\n",
        "    - cumulative_distribution: A list of tuples containing words and their cumulative distribution percentages.\n",
        "\n",
        "    Returns:\n",
        "    - The M value that corresponds to the desired coverage percentage.\n",
        "    \"\"\"\n",
        "    for word, percentage in cumulative_distribution:\n",
        "        if percentage >= coverage_percentage:\n",
        "            return cumulative_distribution.index((word, percentage)) + 1\n",
        "\n",
        "# This is the main function\n",
        "def determine_M_for_k(k, desired_coverages=[80, 85, 90]):\n",
        "    \"\"\"\n",
        "    Determines the M values for a given k based on desired coverage percentages.\n",
        "\n",
        "    Parameters:\n",
        "    - k: The minimum number of tweets a word should appear in.\n",
        "    - desired_coverages: List of desired coverage percentages.\n",
        "\n",
        "    Returns:\n",
        "    - A dictionary with desired coverage percentages as keys and corresponding M values as values.\n",
        "    \"\"\"\n",
        "    cumulative_distribution = compute_cumulative_distribution(k, word_freq, total_occurrences)\n",
        "    M_values = {coverage: find_M_for_coverage(coverage, cumulative_distribution) for coverage in desired_coverages}\n",
        "    return M_values\n",
        "\n"
      ],
      "metadata": {
        "id": "xxQgKUARKM54"
      },
      "execution_count": null,
      "outputs": []
    },
    {
      "cell_type": "code",
      "source": [
        "# Determine M values as an example\n",
        "print(determine_M_for_k(2))\n",
        "print(determine_M_for_k(3))\n",
        "\n",
        "# None: after filtering words based on k, the cumulative_distribution of word occurrences does not reach 90%"
      ],
      "metadata": {
        "id": "2WdzFv1dNo6U",
        "colab": {
          "base_uri": "https://localhost:8080/"
        },
        "outputId": "e1431edf-717e-4963-8512-30758b1ebb7d"
      },
      "execution_count": null,
      "outputs": [
        {
          "output_type": "stream",
          "name": "stdout",
          "text": [
            "{80: 2988, 85: 4141, 90: None}\n",
            "{80: None, 85: None, 90: None}\n"
          ]
        }
      ]
    },
    {
      "cell_type": "markdown",
      "source": [
        "Given the analysis above, setting k = 2 and M = 4000 may be a threshold choice, since it balances coverage and vocabukary size. For k = 2, the cumulative distribution showed that around 4141 words account for 85% of the total word occurrences. By setting M slightly below this (at 4000), we're capturing a large portion of the word occurrences while keeping the vocabulary size manageable.\n"
      ],
      "metadata": {
        "id": "wB_QtzeWbhLS"
      }
    },
    {
      "cell_type": "markdown",
      "source": [
        "## Process train data"
      ],
      "metadata": {
        "id": "pIvjACPM_r_G"
      }
    },
    {
      "cell_type": "code",
      "source": [
        "filtered_words = {word: freq for word, freq in word_freq.items() if word_tweet_counts[word] >= 2}\n",
        "\n",
        "sorted_filtered_words = sorted(filtered_words.items(), key=lambda x: x[1], reverse=True)\n",
        "\n",
        "top_4000_words = sorted_filtered_words[:4000]\n",
        "vocabulary = [word for word, _ in sorted_filtered_words]\n"
      ],
      "metadata": {
        "id": "y-O7cIvwxzk9"
      },
      "execution_count": null,
      "outputs": []
    },
    {
      "cell_type": "code",
      "source": [
        "train_data = training_df['processed_text'].tolist()\n",
        "train_target = training_df['target'].tolist()\n",
        "dev_data = dev_df['processed_text'].tolist()\n",
        "dev_target = dev_df['target'].tolist()"
      ],
      "metadata": {
        "id": "cto0ySyy2vIU"
      },
      "execution_count": null,
      "outputs": []
    },
    {
      "cell_type": "code",
      "source": [
        "from sklearn.feature_extraction.text import CountVectorizer\n",
        "\n",
        "\n",
        "count_vect = CountVectorizer(binary=True, min_df=2, token_pattern=r'\\b\\w+\\b')\n",
        "\n",
        "X_train = count_vect.fit_transform(train_data).toarray()\n",
        "\n",
        "X_dev = count_vect.transform(dev_data).toarray()\n",
        "\n",
        "# vector for train data\n",
        "print(X_train.shape)\n",
        "print(X_dev.shape)\n",
        "X_train"
      ],
      "metadata": {
        "colab": {
          "base_uri": "https://localhost:8080/"
        },
        "id": "C05X87js1_ir",
        "outputId": "9001a491-3ae4-456d-f753-09c28105d150"
      },
      "execution_count": null,
      "outputs": [
        {
          "output_type": "stream",
          "name": "stdout",
          "text": [
            "(5329, 4414)\n",
            "(2284, 4414)\n"
          ]
        },
        {
          "output_type": "execute_result",
          "data": {
            "text/plain": [
              "array([[0, 0, 0, ..., 0, 0, 0],\n",
              "       [0, 0, 0, ..., 0, 0, 0],\n",
              "       [0, 0, 0, ..., 0, 0, 0],\n",
              "       ...,\n",
              "       [0, 0, 0, ..., 0, 0, 0],\n",
              "       [0, 0, 0, ..., 0, 0, 0],\n",
              "       [0, 0, 0, ..., 0, 0, 0]])"
            ]
          },
          "metadata": {},
          "execution_count": 62
        }
      ]
    },
    {
      "cell_type": "code",
      "source": [
        "feature_names = count_vect.get_feature_names_out()\n",
        "\n",
        "print(\"Feature Names:\")\n",
        "print(feature_names[:10])"
      ],
      "metadata": {
        "colab": {
          "base_uri": "https://localhost:8080/"
        },
        "id": "3uoaA6z1NVdu",
        "outputId": "8008d8af-1706-432b-c2c8-da8a06123b2d"
      },
      "execution_count": null,
      "outputs": [
        {
          "output_type": "stream",
          "name": "stdout",
          "text": [
            "Feature Names:\n",
            "['aa' 'ab' 'aba' 'abandon' 'abandoned' 'abbott' 'abbswinston' 'abc'\n",
            " 'abcnews' 'ability']\n"
          ]
        }
      ]
    },
    {
      "cell_type": "code",
      "source": [
        "from sklearn.linear_model import LogisticRegression\n",
        "\n",
        "# Create an instance of Softmax and fit the data.\n",
        "logreg = LogisticRegression(C=1e5, multi_class='multinomial', verbose=True)\n",
        "logreg.fit(X_train, train_target)"
      ],
      "metadata": {
        "colab": {
          "base_uri": "https://localhost:8080/",
          "height": 238
        },
        "id": "R0EhsPOh5m_Z",
        "outputId": "c66af324-9d01-4ece-cad6-fc1e8a850561"
      },
      "execution_count": null,
      "outputs": [
        {
          "output_type": "stream",
          "name": "stderr",
          "text": [
            "/usr/local/lib/python3.10/dist-packages/sklearn/linear_model/_logistic.py:458: ConvergenceWarning: lbfgs failed to converge (status=1):\n",
            "STOP: TOTAL NO. of ITERATIONS REACHED LIMIT.\n",
            "\n",
            "Increase the number of iterations (max_iter) or scale the data as shown in:\n",
            "    https://scikit-learn.org/stable/modules/preprocessing.html\n",
            "Please also refer to the documentation for alternative solver options:\n",
            "    https://scikit-learn.org/stable/modules/linear_model.html#logistic-regression\n",
            "  n_iter_i = _check_optimize_result(\n"
          ]
        },
        {
          "output_type": "execute_result",
          "data": {
            "text/plain": [
              "LogisticRegression(C=100000.0, multi_class='multinomial', verbose=True)"
            ],
            "text/html": [
              "<style>#sk-container-id-2 {color: black;background-color: white;}#sk-container-id-2 pre{padding: 0;}#sk-container-id-2 div.sk-toggleable {background-color: white;}#sk-container-id-2 label.sk-toggleable__label {cursor: pointer;display: block;width: 100%;margin-bottom: 0;padding: 0.3em;box-sizing: border-box;text-align: center;}#sk-container-id-2 label.sk-toggleable__label-arrow:before {content: \"▸\";float: left;margin-right: 0.25em;color: #696969;}#sk-container-id-2 label.sk-toggleable__label-arrow:hover:before {color: black;}#sk-container-id-2 div.sk-estimator:hover label.sk-toggleable__label-arrow:before {color: black;}#sk-container-id-2 div.sk-toggleable__content {max-height: 0;max-width: 0;overflow: hidden;text-align: left;background-color: #f0f8ff;}#sk-container-id-2 div.sk-toggleable__content pre {margin: 0.2em;color: black;border-radius: 0.25em;background-color: #f0f8ff;}#sk-container-id-2 input.sk-toggleable__control:checked~div.sk-toggleable__content {max-height: 200px;max-width: 100%;overflow: auto;}#sk-container-id-2 input.sk-toggleable__control:checked~label.sk-toggleable__label-arrow:before {content: \"▾\";}#sk-container-id-2 div.sk-estimator input.sk-toggleable__control:checked~label.sk-toggleable__label {background-color: #d4ebff;}#sk-container-id-2 div.sk-label input.sk-toggleable__control:checked~label.sk-toggleable__label {background-color: #d4ebff;}#sk-container-id-2 input.sk-hidden--visually {border: 0;clip: rect(1px 1px 1px 1px);clip: rect(1px, 1px, 1px, 1px);height: 1px;margin: -1px;overflow: hidden;padding: 0;position: absolute;width: 1px;}#sk-container-id-2 div.sk-estimator {font-family: monospace;background-color: #f0f8ff;border: 1px dotted black;border-radius: 0.25em;box-sizing: border-box;margin-bottom: 0.5em;}#sk-container-id-2 div.sk-estimator:hover {background-color: #d4ebff;}#sk-container-id-2 div.sk-parallel-item::after {content: \"\";width: 100%;border-bottom: 1px solid gray;flex-grow: 1;}#sk-container-id-2 div.sk-label:hover label.sk-toggleable__label {background-color: #d4ebff;}#sk-container-id-2 div.sk-serial::before {content: \"\";position: absolute;border-left: 1px solid gray;box-sizing: border-box;top: 0;bottom: 0;left: 50%;z-index: 0;}#sk-container-id-2 div.sk-serial {display: flex;flex-direction: column;align-items: center;background-color: white;padding-right: 0.2em;padding-left: 0.2em;position: relative;}#sk-container-id-2 div.sk-item {position: relative;z-index: 1;}#sk-container-id-2 div.sk-parallel {display: flex;align-items: stretch;justify-content: center;background-color: white;position: relative;}#sk-container-id-2 div.sk-item::before, #sk-container-id-2 div.sk-parallel-item::before {content: \"\";position: absolute;border-left: 1px solid gray;box-sizing: border-box;top: 0;bottom: 0;left: 50%;z-index: -1;}#sk-container-id-2 div.sk-parallel-item {display: flex;flex-direction: column;z-index: 1;position: relative;background-color: white;}#sk-container-id-2 div.sk-parallel-item:first-child::after {align-self: flex-end;width: 50%;}#sk-container-id-2 div.sk-parallel-item:last-child::after {align-self: flex-start;width: 50%;}#sk-container-id-2 div.sk-parallel-item:only-child::after {width: 0;}#sk-container-id-2 div.sk-dashed-wrapped {border: 1px dashed gray;margin: 0 0.4em 0.5em 0.4em;box-sizing: border-box;padding-bottom: 0.4em;background-color: white;}#sk-container-id-2 div.sk-label label {font-family: monospace;font-weight: bold;display: inline-block;line-height: 1.2em;}#sk-container-id-2 div.sk-label-container {text-align: center;}#sk-container-id-2 div.sk-container {/* jupyter's `normalize.less` sets `[hidden] { display: none; }` but bootstrap.min.css set `[hidden] { display: none !important; }` so we also need the `!important` here to be able to override the default hidden behavior on the sphinx rendered scikit-learn.org. See: https://github.com/scikit-learn/scikit-learn/issues/21755 */display: inline-block !important;position: relative;}#sk-container-id-2 div.sk-text-repr-fallback {display: none;}</style><div id=\"sk-container-id-2\" class=\"sk-top-container\"><div class=\"sk-text-repr-fallback\"><pre>LogisticRegression(C=100000.0, multi_class=&#x27;multinomial&#x27;, verbose=True)</pre><b>In a Jupyter environment, please rerun this cell to show the HTML representation or trust the notebook. <br />On GitHub, the HTML representation is unable to render, please try loading this page with nbviewer.org.</b></div><div class=\"sk-container\" hidden><div class=\"sk-item\"><div class=\"sk-estimator sk-toggleable\"><input class=\"sk-toggleable__control sk-hidden--visually\" id=\"sk-estimator-id-2\" type=\"checkbox\" checked><label for=\"sk-estimator-id-2\" class=\"sk-toggleable__label sk-toggleable__label-arrow\">LogisticRegression</label><div class=\"sk-toggleable__content\"><pre>LogisticRegression(C=100000.0, multi_class=&#x27;multinomial&#x27;, verbose=True)</pre></div></div></div></div></div>"
            ]
          },
          "metadata": {},
          "execution_count": 64
        }
      ]
    },
    {
      "cell_type": "markdown",
      "source": [
        "A simple test"
      ],
      "metadata": {
        "id": "Fdmv_HcB7UK_"
      }
    },
    {
      "cell_type": "code",
      "source": [
        "docs_new = ['God is love', 'fire is here, urgent']\n",
        "\n",
        "X_new = count_vect.transform(docs_new)\n",
        "predicted = logreg.predict(X_new)\n",
        "\n",
        "for doc, category in zip(docs_new, predicted):\n",
        "    print('%r => %s' % (doc,category))"
      ],
      "metadata": {
        "colab": {
          "base_uri": "https://localhost:8080/"
        },
        "id": "LCczyz-z6SK6",
        "outputId": "52191c1d-9ef9-4391-8773-bc38af6dee7d"
      },
      "execution_count": null,
      "outputs": [
        {
          "output_type": "stream",
          "name": "stdout",
          "text": [
            "'God is love' => 0\n",
            "'fire is here, urgent' => 1\n"
          ]
        }
      ]
    },
    {
      "cell_type": "markdown",
      "source": [
        "## Process development sets"
      ],
      "metadata": {
        "id": "QdILy-SN-rEM"
      }
    },
    {
      "cell_type": "code",
      "source": [
        "predicted = logreg.predict(X_dev)\n",
        "\n",
        "#for doc, category in zip(X_dev, predicted):\n",
        "    #print('%r => %s' % (doc,category))"
      ],
      "metadata": {
        "id": "AVeaY38p7gl8"
      },
      "execution_count": null,
      "outputs": []
    },
    {
      "cell_type": "markdown",
      "source": [
        "# Logistic regression"
      ],
      "metadata": {
        "id": "fXpEA0XZ_i9T"
      }
    },
    {
      "cell_type": "code",
      "source": [
        "from sklearn.linear_model import LogisticRegression\n",
        "from sklearn.metrics import f1_score\n",
        "\n",
        "\n",
        "logreg_no_reg = LogisticRegression(penalty='none')\n",
        "\n",
        "\n",
        "logreg_no_reg.fit(X_train, train_target)\n",
        "\n",
        "\n",
        "y_train_pred = logreg_no_reg.predict(X_train)\n",
        "f1_train = f1_score(train_target, y_train_pred)\n",
        "\n",
        "\n",
        "y_dev_pred = logreg_no_reg.predict(X_dev)\n",
        "f1_dev = f1_score(dev_target, y_dev_pred)\n",
        "\n",
        "\n",
        "print(\"F1 Score on Training Set (No Regularization):\", f1_train)\n",
        "print(\"F1 Score on Development Set (No Regularization):\", f1_dev)\n"
      ],
      "metadata": {
        "colab": {
          "base_uri": "https://localhost:8080/"
        },
        "id": "vsADQt77_D_A",
        "outputId": "7552049d-8166-4b34-af61-374fc3fdf048"
      },
      "execution_count": null,
      "outputs": [
        {
          "output_type": "stream",
          "name": "stderr",
          "text": [
            "/usr/local/lib/python3.10/dist-packages/sklearn/linear_model/_logistic.py:1173: FutureWarning: `penalty='none'`has been deprecated in 1.2 and will be removed in 1.4. To keep the past behaviour, set `penalty=None`.\n",
            "  warnings.warn(\n"
          ]
        },
        {
          "output_type": "stream",
          "name": "stdout",
          "text": [
            "F1 Score on Training Set (No Regularization): 0.9810168012219069\n",
            "F1 Score on Development Set (No Regularization): 0.6817067189798921\n"
          ]
        },
        {
          "output_type": "stream",
          "name": "stderr",
          "text": [
            "/usr/local/lib/python3.10/dist-packages/sklearn/linear_model/_logistic.py:458: ConvergenceWarning: lbfgs failed to converge (status=1):\n",
            "STOP: TOTAL NO. of ITERATIONS REACHED LIMIT.\n",
            "\n",
            "Increase the number of iterations (max_iter) or scale the data as shown in:\n",
            "    https://scikit-learn.org/stable/modules/preprocessing.html\n",
            "Please also refer to the documentation for alternative solver options:\n",
            "    https://scikit-learn.org/stable/modules/linear_model.html#logistic-regression\n",
            "  n_iter_i = _check_optimize_result(\n"
          ]
        }
      ]
    },
    {
      "cell_type": "code",
      "source": [
        "\n",
        "logreg_L1 = LogisticRegression(penalty='l1', solver='liblinear')\n",
        "\n",
        "\n",
        "logreg_L1.fit(X_train, train_target)\n",
        "\n",
        "\n",
        "y_train_pred_L1 = logreg_L1.predict(X_train)\n",
        "f1_train_L1 = f1_score(train_target, y_train_pred_L1)\n",
        "\n",
        "\n",
        "y_dev_pred_L1 = logreg_L1.predict(X_dev)\n",
        "f1_dev_L1 = f1_score(dev_target, y_dev_pred_L1)\n",
        "\n",
        "\n",
        "print(\"F1 Score on Training Set (L1):\", f1_train_L1)\n",
        "print(\"F1 Score on Development Set (L1):\", f1_dev_L1)"
      ],
      "metadata": {
        "colab": {
          "base_uri": "https://localhost:8080/"
        },
        "id": "bCd9K0y8q9LF",
        "outputId": "a14f56f1-d7a2-454c-8791-c8d118b47706"
      },
      "execution_count": null,
      "outputs": [
        {
          "output_type": "stream",
          "name": "stdout",
          "text": [
            "F1 Score on Training Set (L1): 0.8532658693652254\n",
            "F1 Score on Development Set (L1): 0.7431991294885746\n"
          ]
        }
      ]
    },
    {
      "cell_type": "code",
      "source": [
        "\n",
        "logreg_L2 = LogisticRegression(penalty='l2')\n",
        "\n",
        "\n",
        "logreg_L2.fit(X_train, train_target)\n",
        "\n",
        "\n",
        "y_train_pred_L2 = logreg_L2.predict(X_train)\n",
        "f1_train_L2 = f1_score(train_target, y_train_pred_L2)\n",
        "\n",
        "\n",
        "y_dev_pred_L2 = logreg_L2.predict(X_dev)\n",
        "f1_dev_L2 = f1_score(dev_target, y_dev_pred_L2)\n",
        "\n",
        "\n",
        "print(\"F1 Score on Training Set (L2):\", f1_train_L2)\n",
        "print(\"F1 Score on Development Set (L2):\", f1_dev_L2)"
      ],
      "metadata": {
        "colab": {
          "base_uri": "https://localhost:8080/"
        },
        "id": "lvrzUoS8GVH5",
        "outputId": "f21b7cb5-5806-48b3-da4a-6d744091d893"
      },
      "execution_count": null,
      "outputs": [
        {
          "output_type": "stream",
          "name": "stdout",
          "text": [
            "F1 Score on Training Set (L2): 0.9078498293515358\n",
            "F1 Score on Development Set (L2): 0.757825370675453\n"
          ]
        }
      ]
    },
    {
      "cell_type": "code",
      "source": [
        "coefficients = logreg_L1.coef_\n",
        "\n",
        "# Display the coefficients for each feature\n",
        "#print(\"Coefficients for each word:\")\n",
        "#for word,coef in zip(feature_names,coefficients[0][:40]):\n",
        "#    print(word,coef)\n",
        "\n",
        "print(\"Top 10 words with the largest coefficients:\")\n",
        "coef_word_pairs = [(word, coef) for word, coef in zip(feature_names, coefficients[0])]\n",
        "sorted_coef_word_pairs = sorted(coef_word_pairs, key=lambda x: abs(x[1]), reverse=True)\n",
        "\n",
        "# Print the top 10 words\n",
        "for word, coef in sorted_coef_word_pairs[:10]:\n",
        "    print(f\"{word}: {coef}\")"
      ],
      "metadata": {
        "colab": {
          "base_uri": "https://localhost:8080/"
        },
        "id": "ZE4rGZK3GVLU",
        "outputId": "d827ab58-c775-422a-d4de-1457cdf4074f"
      },
      "execution_count": null,
      "outputs": [
        {
          "output_type": "stream",
          "name": "stdout",
          "text": [
            "Top 10 words with the largest coefficients:\n",
            "hiroshima: 3.4886450574487937\n",
            "airport: 3.486486901731712\n",
            "spill: 3.4476750530086173\n",
            "derailment: 3.194458383372672\n",
            "typhoon: 3.176672858446369\n",
            "migrant: 3.087532551193806\n",
            "wildfire: 3.0830036082750594\n",
            "earthquake: 2.896327736738415\n",
            "debris: 2.7478358516103936\n",
            "outbreak: 2.672882294026606\n"
          ]
        }
      ]
    },
    {
      "cell_type": "markdown",
      "source": [
        "# Bernoulli Naive Bayes"
      ],
      "metadata": {
        "id": "ieQyR-xjaZnU"
      }
    },
    {
      "cell_type": "code",
      "source": [
        "n = X_train.shape[0] # size of the dataset\n",
        "d = X_train.shape[1] # number of features in our dataset\n",
        "K = 2\n",
        "alpha = 1\n",
        "# these are the shapes of the parameters\n",
        "psis = np.zeros([K,d])\n",
        "phis = np.zeros([K])\n",
        "y_train=np.array(train_target)\n",
        "# we now compute the parameters\n",
        "for k in range(K):\n",
        "    X_k = X_train[y_train == k]\n",
        "    nk=X_k.shape[0]\n",
        "    njk=X_k.sum(axis=0)\n",
        "    psis[k] = (njk+alpha)/(nk+2*alpha)\n",
        "    phis[k] = X_k.shape[0] / float(n)\n",
        "\n",
        "# print out the class proportions\n",
        "print(phis)\n"
      ],
      "metadata": {
        "colab": {
          "base_uri": "https://localhost:8080/"
        },
        "id": "zlYD2Ob8aenZ",
        "outputId": "c24d1f0b-0661-42be-b724-f311780a28c9"
      },
      "execution_count": null,
      "outputs": [
        {
          "output_type": "stream",
          "name": "stdout",
          "text": [
            "[0.56746106 0.43253894]\n"
          ]
        }
      ]
    },
    {
      "cell_type": "code",
      "source": [
        "# we can implement this in numpy\n",
        "def nb_predictions(x, psis, phis):\n",
        "    \"\"\"This returns class assignments and scores under the NB model.\n",
        "\n",
        "    We compute \\arg\\max_y p(y|x) as \\arg\\max_y p(x|y)p(y)\n",
        "    \"\"\"\n",
        "    # adjust shapes\n",
        "    n, d = x.shape\n",
        "    x = np.reshape(x, (1, n, d))\n",
        "    psis = np.reshape(psis, (K, 1, d))\n",
        "\n",
        "    # clip probabilities to avoid log(0)\n",
        "    psis = psis.clip(1e-14, 1-1e-14)\n",
        "\n",
        "    # compute log-probabilities\n",
        "    logpy = np.log(phis).reshape([K,1])\n",
        "    logpxy = x * np.log(psis) + (1-x) * np.log(1-psis)\n",
        "    logpyx = logpxy.sum(axis=2) + logpy\n",
        "\n",
        "    return logpyx.argmax(axis=0).flatten(), logpyx.reshape([K,n])\n",
        "\n",
        "idx, logpyx = nb_predictions(X_train, psis, phis)\n",
        "print(idx[:10])"
      ],
      "metadata": {
        "colab": {
          "base_uri": "https://localhost:8080/"
        },
        "id": "9caBHbImKMpD",
        "outputId": "cb59096b-382f-41f9-a971-8422770afdb0"
      },
      "execution_count": null,
      "outputs": [
        {
          "output_type": "stream",
          "name": "stdout",
          "text": [
            "[1 1 1 0 0 1 1 0 0 1]\n"
          ]
        }
      ]
    },
    {
      "cell_type": "code",
      "source": [
        "print((idx==y_train).mean())\n",
        "f1 = f1_score(y_train, idx, average='weighted')\n",
        "print(\"F1 Score:\", f1)"
      ],
      "metadata": {
        "colab": {
          "base_uri": "https://localhost:8080/"
        },
        "id": "cBj2p9a8PVwp",
        "outputId": "30815213-a661-4e65-f3e5-5d5c351038c9"
      },
      "execution_count": null,
      "outputs": [
        {
          "output_type": "stream",
          "name": "stdout",
          "text": [
            "0.8669544004503659\n",
            "F1 Score: 0.8649624852249282\n"
          ]
        }
      ]
    },
    {
      "cell_type": "code",
      "source": [
        "y_dev=np.array(dev_target)\n"
      ],
      "metadata": {
        "id": "1gkhWquiWw5O"
      },
      "execution_count": null,
      "outputs": []
    },
    {
      "cell_type": "code",
      "source": [
        "idx_dev, logpyx_dev = nb_predictions(X_dev, psis, phis)\n",
        "print(idx_dev[:10])\n",
        "print((idx_dev==y_dev).mean())\n",
        "f1 = f1_score(y_dev, idx_dev, average='weighted')\n",
        "\n",
        "print(\"F1 Score:\", f1)"
      ],
      "metadata": {
        "colab": {
          "base_uri": "https://localhost:8080/"
        },
        "id": "OWZdPfxTYOQC",
        "outputId": "696b1060-5f43-4ae3-adca-89b12e0dfa7a"
      },
      "execution_count": null,
      "outputs": [
        {
          "output_type": "stream",
          "name": "stdout",
          "text": [
            "[0 0 1 0 0 0 0 0 0 0]\n",
            "0.8104203152364273\n",
            "F1 Score: 0.8070448701518863\n"
          ]
        }
      ]
    },
    {
      "cell_type": "markdown",
      "source": [
        "# Model comparison"
      ],
      "metadata": {
        "id": "Jsq4TXMpYpNk"
      }
    },
    {
      "cell_type": "markdown",
      "source": [
        "Bernoulli Naive Bayes Model performed the best in predicting whether a tweet is of a real disaster with accuracy on development dataset of 0.81 and a F1 score at 0.81.\n",
        "\n",
        "Text data usually consists of discrete words or features, each of which either appears or does not appear. The Bernoulli Naive Bayes model is naturally suitable for processing binary or binary features, and is not prone to overfitting. However, Naive Bayes assumes that words are uncorrelated, but in reality they are. As a result, the probabilities estimated by Naive Bayes can be over- or under-confident. Discriminative models are sensitive to noise and missing data in the input data, which can lead to performance degradation."
      ],
      "metadata": {
        "id": "XP40gADCY-Ll"
      }
    },
    {
      "cell_type": "markdown",
      "source": [
        "# N-gram model"
      ],
      "metadata": {
        "id": "arooUnjFeG5p"
      }
    },
    {
      "cell_type": "code",
      "source": [
        "from sklearn.feature_extraction.text import CountVectorizer\n",
        "\n",
        "\n",
        "ngram_vectorizer = CountVectorizer(ngram_range=(1, 2),min_df=3)\n",
        "\n",
        "\n",
        "ngram_vectorizer.fit(training_df['processed_text'])\n",
        "\n",
        "\n",
        "ngram_features = ngram_vectorizer.get_feature_names_out()\n",
        "\n",
        "print(\"N-gram词表:\")\n",
        "print(ngram_features[:10])\n",
        "len(ngram_features)"
      ],
      "metadata": {
        "colab": {
          "base_uri": "https://localhost:8080/"
        },
        "id": "a5dGHbnaeTk_",
        "outputId": "a287d401-12c5-40ad-c523-3b8a666e3830"
      },
      "execution_count": null,
      "outputs": [
        {
          "output_type": "stream",
          "name": "stdout",
          "text": [
            "N-gram词表:\n",
            "['aa' 'aba' 'aba woman' 'abandoned' 'abandoned aircraft' 'abbswinston'\n",
            " 'abbswinston zionist' 'abc' 'abc news' 'ability']\n"
          ]
        },
        {
          "output_type": "execute_result",
          "data": {
            "text/plain": [
              "4456"
            ]
          },
          "metadata": {},
          "execution_count": 76
        }
      ]
    },
    {
      "cell_type": "code",
      "source": [
        "X_train_ngram = ngram_vectorizer.fit_transform(train_data).toarray()\n",
        "X_dev_ngram = ngram_vectorizer.transform(dev_data).toarray()\n",
        "\n",
        "# vector for train data\n",
        "print(X_train_ngram.shape)\n",
        "print(X_dev_ngram.shape)\n",
        "\n",
        "#count=0\n",
        "#covered_data_count = X_train_ngram.getnnz(axis=1)\n",
        "#for i in covered_data_count:\n",
        "#  if i !=0:\n",
        "#    count+=1\n",
        "\n",
        "#count"
      ],
      "metadata": {
        "colab": {
          "base_uri": "https://localhost:8080/"
        },
        "id": "4SX4-3EOAgIh",
        "outputId": "7565d126-637e-4b69-9ca3-f5555cd196b0"
      },
      "execution_count": null,
      "outputs": [
        {
          "output_type": "stream",
          "name": "stdout",
          "text": [
            "(5329, 4456)\n",
            "(2284, 4456)\n"
          ]
        }
      ]
    },
    {
      "cell_type": "markdown",
      "source": [
        "I think M=3 is good choice as when M=[1,2,3,4,5,6,7,8], the corresponding coverage of data is [100%,99.8%,99.8%,99.7%,99.7%,99.6%,99.5%,99.5%] and the corresponding number of vocabulary is [42414,7786,4456,3218,2521,2079,1790,1585]. When M changes from 2 to 3, the number of words in the bag of words is greatly reduced and it still covers most of the data. When M continues to increase, the number of words in the bag of words begins to decrease slowly."
      ],
      "metadata": {
        "id": "NBO2zZ7wEtpN"
      }
    },
    {
      "cell_type": "markdown",
      "source": [
        "## Logistic regression on N-gram data"
      ],
      "metadata": {
        "id": "tGCFZhurHCpw"
      }
    },
    {
      "cell_type": "code",
      "source": [
        "from sklearn.linear_model import LogisticRegression\n",
        "from sklearn.metrics import f1_score\n",
        "\n",
        "\n",
        "logreg_no_reg_ngram = LogisticRegression(penalty='l1', solver='liblinear')\n",
        "\n",
        "\n",
        "logreg_no_reg_ngram.fit(X_train_ngram, train_target)\n",
        "\n",
        "\n",
        "y_train_pred_ngram = logreg_no_reg_ngram.predict(X_train_ngram)\n",
        "f1_train_ngram = f1_score(train_target, y_train_pred_ngram)\n",
        "\n",
        "\n",
        "y_dev_pred_ngram = logreg_no_reg_ngram.predict(X_dev_ngram)\n",
        "f1_dev_ngram = f1_score(dev_target, y_dev_pred_ngram)\n",
        "\n",
        "\n",
        "print(\"F1 Score on Training Set (L1):\", f1_train_ngram)\n",
        "print(\"F1 Score on Development Set (L1):\", f1_dev_ngram)"
      ],
      "metadata": {
        "colab": {
          "base_uri": "https://localhost:8080/"
        },
        "id": "OFykkwbDGzz8",
        "outputId": "34999648-e573-4b1e-b931-f8440a7ddbe6"
      },
      "execution_count": null,
      "outputs": [
        {
          "output_type": "stream",
          "name": "stdout",
          "text": [
            "F1 Score on Training Set (L1): 0.853890824622532\n",
            "F1 Score on Development Set (L1): 0.7428571428571428\n"
          ]
        }
      ]
    },
    {
      "cell_type": "markdown",
      "source": [
        "## BNB"
      ],
      "metadata": {
        "id": "aYKRhyvmIm9s"
      }
    },
    {
      "cell_type": "code",
      "source": [
        "n = X_train_ngram.shape[0] # size of the dataset\n",
        "d = X_train_ngram.shape[1] # number of features in our dataset\n",
        "K = 2\n",
        "alpha = 1\n",
        "# these are the shapes of the parameters\n",
        "psis_ngram = np.zeros([K,d])\n",
        "phis_ngram = np.zeros([K])\n",
        "y_train=np.array(train_target)\n",
        "# we now compute the parameters\n",
        "for k in range(K):\n",
        "    X_k_ngram = X_train_ngram[y_train == k]\n",
        "    nk_ngram=X_k_ngram.shape[0]\n",
        "    njk_ngram=X_k_ngram.sum(axis=0)\n",
        "    psis_ngram[k] = (njk_ngram+alpha)/(nk_ngram+2*alpha)\n",
        "    phis_ngram[k] = X_k_ngram.shape[0] / float(n)\n",
        "\n",
        "# print out the class proportions\n",
        "print(phis_ngram)\n"
      ],
      "metadata": {
        "colab": {
          "base_uri": "https://localhost:8080/"
        },
        "outputId": "f7dc6c0e-9913-4849-db17-5b1a2324ee7b",
        "id": "PBB6jOZIIw9q"
      },
      "execution_count": null,
      "outputs": [
        {
          "output_type": "stream",
          "name": "stdout",
          "text": [
            "[0.56746106 0.43253894]\n"
          ]
        }
      ]
    },
    {
      "cell_type": "code",
      "source": [
        "# we can implement this in numpy\n",
        "def nb_predictions(x, psis, phis):\n",
        "    \"\"\"This returns class assignments and scores under the NB model.\n",
        "\n",
        "    We compute \\arg\\max_y p(y|x) as \\arg\\max_y p(x|y)p(y)\n",
        "    \"\"\"\n",
        "    # adjust shapes\n",
        "    n, d = x.shape\n",
        "    x = np.reshape(x, (1, n, d))\n",
        "    psis = np.reshape(psis, (K, 1, d))\n",
        "\n",
        "    # clip probabilities to avoid log(0)\n",
        "    psis = psis.clip(1e-14, 1-1e-14)\n",
        "\n",
        "    # compute log-probabilities\n",
        "    logpy = np.log(phis).reshape([K,1])\n",
        "    logpxy = x * np.log(psis) + (1-x) * np.log(1-psis)\n",
        "    logpyx = logpxy.sum(axis=2) + logpy\n",
        "\n",
        "    return logpyx.argmax(axis=0).flatten(), logpyx.reshape([K,n])\n",
        "\n",
        "idx_ngram, logpyx_ngram = nb_predictions(X_train_ngram, psis_ngram, phis_ngram)\n",
        "print(idx_ngram[:10])"
      ],
      "metadata": {
        "colab": {
          "base_uri": "https://localhost:8080/"
        },
        "outputId": "84c1d490-7ce8-4aa4-867b-af5d4c6ca429",
        "id": "TBrA_RPKI3NI"
      },
      "execution_count": null,
      "outputs": [
        {
          "output_type": "stream",
          "name": "stdout",
          "text": [
            "[1 0 1 0 0 1 0 0 0 1]\n"
          ]
        }
      ]
    },
    {
      "cell_type": "code",
      "source": [
        "print((idx_ngram==y_train).mean())\n",
        "f1_ngram = f1_score(y_train, idx_ngram, average='weighted')\n",
        "print(\"F1 Score:\", f1_ngram)"
      ],
      "metadata": {
        "colab": {
          "base_uri": "https://localhost:8080/"
        },
        "outputId": "1de91ef1-3617-41f1-ead1-e7d6e8c97710",
        "id": "xgo2sAJWI3NO"
      },
      "execution_count": null,
      "outputs": [
        {
          "output_type": "stream",
          "name": "stdout",
          "text": [
            "0.8380559204353537\n",
            "F1 Score: 0.8326100017602264\n"
          ]
        }
      ]
    },
    {
      "cell_type": "code",
      "source": [
        "\n",
        "y_dev_ngram=np.array(dev_target)\n"
      ],
      "metadata": {
        "id": "9o4Km0--I3NO"
      },
      "execution_count": null,
      "outputs": []
    },
    {
      "cell_type": "code",
      "source": [
        "idx_dev_ngram, logpyx_dev_ngram = nb_predictions(X_dev_ngram, psis_ngram, phis_ngram)\n",
        "print(idx_dev_ngram[:10])\n",
        "print((idx_dev_ngram==y_dev).mean())\n",
        "f1_dev_ngram = f1_score(y_dev_ngram, idx_dev_ngram, average='weighted')\n",
        "print(\"F1 Score:\", f1_dev_ngram)"
      ],
      "metadata": {
        "colab": {
          "base_uri": "https://localhost:8080/"
        },
        "outputId": "d14b15cb-b5a3-49ba-901d-469810b94029",
        "id": "lNxBDk8jI3NO"
      },
      "execution_count": null,
      "outputs": [
        {
          "output_type": "stream",
          "name": "stdout",
          "text": [
            "[0 0 0 0 0 0 0 0 0 1]\n",
            "0.8025394045534151\n",
            "F1 Score: 0.7936718923886651\n"
          ]
        }
      ]
    },
    {
      "cell_type": "markdown",
      "source": [
        "# Determine performance with the test set"
      ],
      "metadata": {
        "id": "ttznMUTgKhaZ"
      }
    },
    {
      "cell_type": "code",
      "source": [
        "train_data = training_df['processed_text'].tolist()\n",
        "train_target = training_df['target'].tolist()\n",
        "dev_data = dev_df['processed_text'].tolist()\n",
        "dev_target = dev_df['target'].tolist()\n",
        "# union\n",
        "train_data_final = train_data + dev_data\n",
        "train_target_final = train_target + dev_target\n",
        "\n",
        "#test dataset\n",
        "test_data=test_df['processed_text'].tolist()\n"
      ],
      "metadata": {
        "id": "SZaYhycuLGKu"
      },
      "execution_count": null,
      "outputs": []
    },
    {
      "cell_type": "code",
      "source": [
        "from sklearn.feature_extraction.text import CountVectorizer\n",
        "\n",
        "\n",
        "count_vect = CountVectorizer(binary=True, min_df=2, token_pattern=r'\\b\\w+\\b')\n",
        "\n",
        "X_train_final = count_vect.fit_transform(train_data_final).toarray()\n",
        "\n",
        "X_test = count_vect.transform(test_data).toarray()\n",
        "\n",
        "# vector for train data\n",
        "print(X_train_final.shape)\n",
        "print(X_test.shape)\n",
        "X_train"
      ],
      "metadata": {
        "colab": {
          "base_uri": "https://localhost:8080/"
        },
        "outputId": "85931786-d742-4b0a-d325-f79b1c3f3fa1",
        "id": "5rc42p6hLGKu"
      },
      "execution_count": null,
      "outputs": [
        {
          "output_type": "stream",
          "name": "stdout",
          "text": [
            "(7613, 5575)\n",
            "(3263, 5575)\n"
          ]
        },
        {
          "output_type": "execute_result",
          "data": {
            "text/plain": [
              "array([[0, 0, 0, ..., 0, 0, 0],\n",
              "       [0, 0, 0, ..., 0, 0, 0],\n",
              "       [0, 0, 0, ..., 0, 0, 0],\n",
              "       ...,\n",
              "       [0, 0, 0, ..., 0, 0, 0],\n",
              "       [0, 0, 0, ..., 0, 0, 0],\n",
              "       [0, 0, 0, ..., 0, 0, 0]])"
            ]
          },
          "metadata": {},
          "execution_count": 85
        }
      ]
    },
    {
      "cell_type": "code",
      "source": [
        "n = X_train_final.shape[0] # size of the dataset\n",
        "d = X_train_final.shape[1] # number of features in our dataset\n",
        "K = 2\n",
        "alpha = 1\n",
        "# these are the shapes of the parameters\n",
        "psis_final = np.zeros([K,d])\n",
        "phis_final = np.zeros([K])\n",
        "y_train_final=np.array(train_target_final)\n",
        "# we now compute the parameters\n",
        "for k in range(K):\n",
        "    X_k_final = X_train_final[y_train_final == k]\n",
        "    nk_final=X_k_final.shape[0]\n",
        "    njk_final=X_k_final.sum(axis=0)\n",
        "    psis_final[k] = (njk_final+alpha)/(nk_final+2*alpha)\n",
        "    phis_final[k] = X_k_final.shape[0] / float(n)\n",
        "\n",
        "# print out the class proportions\n",
        "print(phis_final)\n"
      ],
      "metadata": {
        "colab": {
          "base_uri": "https://localhost:8080/"
        },
        "outputId": "424dfc46-d875-4531-cb23-7ea9befbbae1",
        "id": "eKgkfP-JPJEE"
      },
      "execution_count": null,
      "outputs": [
        {
          "output_type": "stream",
          "name": "stdout",
          "text": [
            "[0.57034021 0.42965979]\n"
          ]
        }
      ]
    },
    {
      "cell_type": "code",
      "source": [
        "# we can implement this in numpy\n",
        "def nb_predictions(x, psis, phis):\n",
        "    \"\"\"This returns class assignments and scores under the NB model.\n",
        "\n",
        "    We compute \\arg\\max_y p(y|x) as \\arg\\max_y p(x|y)p(y)\n",
        "    \"\"\"\n",
        "    # adjust shapes\n",
        "    n, d = x.shape\n",
        "    x = np.reshape(x, (1, n, d))\n",
        "    psis = np.reshape(psis, (K, 1, d))\n",
        "\n",
        "    # clip probabilities to avoid log(0)\n",
        "    psis = psis.clip(1e-14, 1-1e-14)\n",
        "\n",
        "    # compute log-probabilities\n",
        "    logpy = np.log(phis).reshape([K,1])\n",
        "    logpxy = x * np.log(psis) + (1-x) * np.log(1-psis)\n",
        "    logpyx = logpxy.sum(axis=2) + logpy\n",
        "\n",
        "    return logpyx.argmax(axis=0).flatten(), logpyx.reshape([K,n])\n",
        "\n",
        "idx_final, logpyx_final = nb_predictions(X_train_final, psis_final, phis_final)\n",
        "print(idx_final[:10])"
      ],
      "metadata": {
        "colab": {
          "base_uri": "https://localhost:8080/"
        },
        "outputId": "4ef6ce64-b420-463f-b7bc-ee8bd03dafb0",
        "id": "HdfjRwrpPJEF"
      },
      "execution_count": null,
      "outputs": [
        {
          "output_type": "stream",
          "name": "stdout",
          "text": [
            "[1 0 1 0 0 1 1 0 0 1]\n"
          ]
        }
      ]
    },
    {
      "cell_type": "code",
      "source": [
        "print((idx_final==y_train_final).mean())\n",
        "f1_final = f1_score(y_train_final, idx_final, average='weighted')\n",
        "print(\"F1 Score:\", f1_final)"
      ],
      "metadata": {
        "colab": {
          "base_uri": "https://localhost:8080/"
        },
        "outputId": "44acf529-b119-41d5-c220-9fa2a3cdd8ab",
        "id": "0VqrvziNPJEF"
      },
      "execution_count": null,
      "outputs": [
        {
          "output_type": "stream",
          "name": "stdout",
          "text": [
            "0.8641796926310259\n",
            "F1 Score: 0.8620992069521449\n"
          ]
        }
      ]
    },
    {
      "cell_type": "code",
      "source": [
        "\n",
        "\n",
        "idx_test, logpyx_test = nb_predictions(X_test, psis_final, phis_final)\n",
        "print(idx_test[:10])\n"
      ],
      "metadata": {
        "colab": {
          "base_uri": "https://localhost:8080/"
        },
        "outputId": "5014d2de-4efa-4426-a372-9dbc5b83000b",
        "id": "8mOsP1MAPJEF"
      },
      "execution_count": null,
      "outputs": [
        {
          "output_type": "stream",
          "name": "stdout",
          "text": [
            "[1 1 1 1 1 1 0 0 0 0]\n"
          ]
        }
      ]
    },
    {
      "cell_type": "code",
      "source": [
        "prediction_df = pd.DataFrame({\n",
        "    \"id\": test_df[\"id\"],\n",
        "    \"target\": idx_test\n",
        "})\n",
        "\n",
        "\n",
        "prediction_df.to_csv(\"prediction.csv\", index=False)\n",
        "\n",
        "from google.colab import files\n",
        "files.download(\"prediction.csv\")"
      ],
      "metadata": {
        "colab": {
          "base_uri": "https://localhost:8080/",
          "height": 17
        },
        "id": "ZSMIG8weUHbK",
        "outputId": "10901933-9d83-4506-814a-04eac2dd443c"
      },
      "execution_count": null,
      "outputs": [
        {
          "output_type": "display_data",
          "data": {
            "text/plain": [
              "<IPython.core.display.Javascript object>"
            ],
            "application/javascript": [
              "\n",
              "    async function download(id, filename, size) {\n",
              "      if (!google.colab.kernel.accessAllowed) {\n",
              "        return;\n",
              "      }\n",
              "      const div = document.createElement('div');\n",
              "      const label = document.createElement('label');\n",
              "      label.textContent = `Downloading \"${filename}\": `;\n",
              "      div.appendChild(label);\n",
              "      const progress = document.createElement('progress');\n",
              "      progress.max = size;\n",
              "      div.appendChild(progress);\n",
              "      document.body.appendChild(div);\n",
              "\n",
              "      const buffers = [];\n",
              "      let downloaded = 0;\n",
              "\n",
              "      const channel = await google.colab.kernel.comms.open(id);\n",
              "      // Send a message to notify the kernel that we're ready.\n",
              "      channel.send({})\n",
              "\n",
              "      for await (const message of channel.messages) {\n",
              "        // Send a message to notify the kernel that we're ready.\n",
              "        channel.send({})\n",
              "        if (message.buffers) {\n",
              "          for (const buffer of message.buffers) {\n",
              "            buffers.push(buffer);\n",
              "            downloaded += buffer.byteLength;\n",
              "            progress.value = downloaded;\n",
              "          }\n",
              "        }\n",
              "      }\n",
              "      const blob = new Blob(buffers, {type: 'application/binary'});\n",
              "      const a = document.createElement('a');\n",
              "      a.href = window.URL.createObjectURL(blob);\n",
              "      a.download = filename;\n",
              "      div.appendChild(a);\n",
              "      a.click();\n",
              "      div.remove();\n",
              "    }\n",
              "  "
            ]
          },
          "metadata": {}
        },
        {
          "output_type": "display_data",
          "data": {
            "text/plain": [
              "<IPython.core.display.Javascript object>"
            ],
            "application/javascript": [
              "download(\"download_8d2a34d9-e793-4059-9ce0-6d9b9d49ff97\", \"prediction.csv\", 22746)"
            ]
          },
          "metadata": {}
        }
      ]
    }
  ]
}